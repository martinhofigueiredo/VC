{
 "cells": [
  {
   "cell_type": "markdown",
   "metadata": {},
   "source": [
    "# Lab Assigment 2 Estimation of Apparent Motion\n",
    "\n",
    "<p style=\"text-align:left;\">\n",
    "    José Pedro Cruz\n",
    "    <span style=\"float:right;\">\n",
    "        up201504646\n",
    "    </span>\n",
    "</p>\n",
    "<p style=\"text-align:left;\">\n",
    "    Martinho Figueiredo\n",
    "    <span style=\"float:right;\">\n",
    "        up201506179\n",
    "    </span>\n",
    "</p>\n",
    "<p style=\"text-align:left;\">\n",
    "    Nuno Nascimento\n",
    "    <span style=\"float:right;\">\n",
    "        up201907933\n",
    "    </span>\n",
    "</p>\n",
    "\n",
    "\n",
    "[![GitHub](https://img.shields.io/badge/github-%23121011.svg?style=for-the-badge&logo=github&logoColor=white)](https://github.com/martinhofigueiredo/VC)\n",
    "\n"
   ]
  },
  {
   "cell_type": "code",
   "execution_count": null,
   "metadata": {},
   "outputs": [],
   "source": []
  }
 ],
 "metadata": {
  "kernelspec": {
   "display_name": "Python 3",
   "language": "python",
   "name": "python3"
  },
  "language_info": {
   "name": "python",
   "version": "3.10.6"
  },
  "orig_nbformat": 4
 },
 "nbformat": 4,
 "nbformat_minor": 2
}
